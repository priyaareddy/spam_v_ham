{
 "cells": [
  {
   "attachments": {},
   "cell_type": "markdown",
   "metadata": {},
   "source": [
    "# Project: Spam/Ham Classification\n",
    "\n",
    "## Feature Engineering, Logistic Regression\n",
    "\n",
    "**Collaboration Policy**\n",
    "\n",
    "Data science is a collaborative activity. While you may talk with others about\n",
    "the homework, we ask that you **write your solutions individually**. If you do\n",
    "discuss the assignments with others please **include their names** at the top\n",
    "of your notebook."
   ]
  },
  {
   "attachments": {},
   "cell_type": "markdown",
   "metadata": {
    "nbgrader": {
     "grade": false,
     "grade_id": "proj2",
     "locked": true,
     "schema_version": 2,
     "solution": false
    }
   },
   "source": [
    "## This Assignment\n",
    "You will use what you've learned in class to create a classifier that can distinguish spam (junk or commercial or bulk) emails from ham (non-spam) emails. We will evaluate your work based on your model's accuracy and your written responses in this notebook.\n",
    "\n",
    "You should feel comfortable with the following:\n",
    "\n",
    "- Feature engineering with text data\n",
    "- Using `sklearn` libraries to process data and fit models\n",
    "- Validating the performance of your model and minimizing overfitting\n",
    "- Generating and analyzing precision-recall curves\n",
    "\n",
    "## Warning\n",
    "This is a **real world** dataset – the emails you are trying to classify are actual spam and legitimate emails. As a result, some of the spam emails may be in poor taste or be considered inappropriate. We think the benefit of working with realistic data outweighs these innapropriate emails, and wanted to give a warning at the beginning of the homework so that you are made aware."
   ]
  },
  {
   "cell_type": "code",
   "execution_count": 2,
   "metadata": {},
   "outputs": [
    {
     "name": "stdout",
     "output_type": "stream",
     "text": [
      "Note: you may need to restart the kernel to use updated packages.\n"
     ]
    }
   ],
   "source": [
    "# Run this cell to suppress all FutureWarnings\n",
    "import warnings\n",
    "warnings.filterwarnings(\"ignore\", category=FutureWarning)\n",
    "\n",
    "# more readable exceptions\n",
    "%pip install --quiet iwut\n",
    "%load_ext iwut\n",
    "%wut on"
   ]
  },
  {
   "cell_type": "markdown",
   "metadata": {
    "nbgrader": {
     "grade": false,
     "grade_id": "p1",
     "locked": true,
     "schema_version": 2,
     "solution": false
    }
   },
   "source": [
    "<br/><br/>\n",
    "<hr style=\"border: 5px solid #003262;\" />\n",
    "<hr style=\"border: 1px solid #fdb515;\" />\n",
    "\n",
    "# Part 1: Initial Analysis"
   ]
  },
  {
   "cell_type": "code",
   "execution_count": 2,
   "metadata": {
    "ExecuteTime": {
     "end_time": "2019-04-03T20:17:41.341673Z",
     "start_time": "2019-04-03T20:17:41.330307Z"
    },
    "nbgrader": {
     "grade": false,
     "grade_id": "imports",
     "locked": true,
     "schema_version": 2,
     "solution": false
    }
   },
   "outputs": [],
   "source": [
    "import numpy as np\n",
    "import pandas as pd\n",
    "\n",
    "import matplotlib.pyplot as plt\n",
    "%matplotlib inline\n",
    "\n",
    "import seaborn as sns\n",
    "sns.set(style = \"whitegrid\", \n",
    "        color_codes = True,\n",
    "        font_scale = 1.5)"
   ]
  },
  {
   "attachments": {},
   "cell_type": "markdown",
   "metadata": {
    "nbgrader": {
     "grade": false,
     "grade_id": "loading",
     "locked": true,
     "schema_version": 2,
     "solution": false
    }
   },
   "source": [
    "### Loading in the Data\n",
    "\n",
    "### Background (given): \n",
    "\n",
    " - In email classification, our goal is to classify emails as spam or not spam (referred to as \"ham\") using features generated from the text in the email. \n",
    "\n",
    " - The dataset is from [SpamAssassin](https://spamassassin.apache.org/old/publiccorpus/). It consists of email messages and their labels (0 for ham, 1 for spam). Your labeled training dataset contains 8348 labeled examples, and the unlabeled test set contains 1000 unlabeled examples.\n",
    "\n",
    " - Note: The dataset is from 2004, so the contents of emails might be very different from those in 2022.\n",
    "\n",
    " - In the following cells load the data into DataFrames.\n",
    "\n",
    " - The `train` DataFrame contains labeled data that you will use to train your model. It contains four columns:\n",
    "\n",
    " - 1. `id`: An identifier for the training example\n",
    " - 2. `subject`: The subject of the email\n",
    " - 3. `email`: The text of the email\n",
    " - 4. `spam`: 1 if the email is spam, 0 if the email is ham (not spam)\n",
    "\n",
    " - The `test` DataFrame contains 1000 unlabeled emails. You will predict labels for these emails and submit your predictions to the autograder for evaluation."
   ]
  },
  {
   "cell_type": "code",
   "execution_count": 1,
   "metadata": {},
   "outputs": [],
   "source": [
    "import zipfile\n",
    "with zipfile.ZipFile('spam_ham_data.zip') as item:\n",
    "    item.extractall()"
   ]
  },
  {
   "cell_type": "code",
   "execution_count": 5,
   "metadata": {},
   "outputs": [
    {
     "data": {
      "text/html": [
       "<div>\n",
       "<style scoped>\n",
       "    .dataframe tbody tr th:only-of-type {\n",
       "        vertical-align: middle;\n",
       "    }\n",
       "\n",
       "    .dataframe tbody tr th {\n",
       "        vertical-align: top;\n",
       "    }\n",
       "\n",
       "    .dataframe thead th {\n",
       "        text-align: right;\n",
       "    }\n",
       "</style>\n",
       "<table border=\"1\" class=\"dataframe\">\n",
       "  <thead>\n",
       "    <tr style=\"text-align: right;\">\n",
       "      <th></th>\n",
       "      <th>id</th>\n",
       "      <th>subject</th>\n",
       "      <th>email</th>\n",
       "      <th>spam</th>\n",
       "    </tr>\n",
       "  </thead>\n",
       "  <tbody>\n",
       "    <tr>\n",
       "      <th>0</th>\n",
       "      <td>0</td>\n",
       "      <td>Subject: A&amp;L Daily to be auctioned in bankrupt...</td>\n",
       "      <td>url: http://boingboing.net/#85534171\\n date: n...</td>\n",
       "      <td>0</td>\n",
       "    </tr>\n",
       "    <tr>\n",
       "      <th>1</th>\n",
       "      <td>1</td>\n",
       "      <td>Subject: Wired: \"Stronger ties between ISPs an...</td>\n",
       "      <td>url: http://scriptingnews.userland.com/backiss...</td>\n",
       "      <td>0</td>\n",
       "    </tr>\n",
       "    <tr>\n",
       "      <th>2</th>\n",
       "      <td>2</td>\n",
       "      <td>Subject: It's just too small                  ...</td>\n",
       "      <td>&lt;html&gt;\\n &lt;head&gt;\\n &lt;/head&gt;\\n &lt;body&gt;\\n &lt;font siz...</td>\n",
       "      <td>1</td>\n",
       "    </tr>\n",
       "    <tr>\n",
       "      <th>3</th>\n",
       "      <td>3</td>\n",
       "      <td>Subject: liberal defnitions\\n</td>\n",
       "      <td>depends on how much over spending vs. how much...</td>\n",
       "      <td>0</td>\n",
       "    </tr>\n",
       "    <tr>\n",
       "      <th>4</th>\n",
       "      <td>4</td>\n",
       "      <td>Subject: RE: [ILUG] Newbie seeks advice - Suse...</td>\n",
       "      <td>hehe sorry but if you hit caps lock twice the ...</td>\n",
       "      <td>0</td>\n",
       "    </tr>\n",
       "  </tbody>\n",
       "</table>\n",
       "</div>"
      ],
      "text/plain": [
       "   id                                            subject  \\\n",
       "0   0  Subject: A&L Daily to be auctioned in bankrupt...   \n",
       "1   1  Subject: Wired: \"Stronger ties between ISPs an...   \n",
       "2   2  Subject: It's just too small                  ...   \n",
       "3   3                      Subject: liberal defnitions\\n   \n",
       "4   4  Subject: RE: [ILUG] Newbie seeks advice - Suse...   \n",
       "\n",
       "                                               email  spam  \n",
       "0  url: http://boingboing.net/#85534171\\n date: n...     0  \n",
       "1  url: http://scriptingnews.userland.com/backiss...     0  \n",
       "2  <html>\\n <head>\\n </head>\\n <body>\\n <font siz...     1  \n",
       "3  depends on how much over spending vs. how much...     0  \n",
       "4  hehe sorry but if you hit caps lock twice the ...     0  "
      ]
     },
     "execution_count": 5,
     "metadata": {},
     "output_type": "execute_result"
    }
   ],
   "source": [
    "original_training_data = pd.read_csv('train.csv')\n",
    "test = pd.read_csv('test.csv')\n",
    "\n",
    "# Convert the emails to lower case as a first step to processing the text\n",
    "original_training_data['email'] = original_training_data['email'].str.lower()\n",
    "test['email'] = test['email'].str.lower()\n",
    "\n",
    "original_training_data.head()"
   ]
  },
  {
   "attachments": {},
   "cell_type": "markdown",
   "metadata": {
    "nbgrader": {
     "grade": false,
     "grade_id": "cell-34476156ed73b800",
     "locked": true,
     "schema_version": 2,
     "solution": false
    }
   },
   "source": [
    "Check if  data contains any missing values: In the cell below to print the number of NaN values in each column. If there are NaN values, we replace them with appropriate filler values. Here NaN values in the `subject` or `email` columns will be replaced with empty strings. Finally, we print the number of NaN values in each column after this modification to verify that there are no NaN values left.\n"
   ]
  },
  {
   "cell_type": "code",
   "execution_count": 6,
   "metadata": {
    "ExecuteTime": {
     "end_time": "2019-04-03T20:17:42.203231Z",
     "start_time": "2019-04-03T20:17:42.185104Z"
    },
    "nbgrader": {
     "grade": false,
     "grade_id": "cell-b1fb39d9b651ca1b",
     "locked": false,
     "schema_version": 2,
     "solution": true
    }
   },
   "outputs": [
    {
     "name": "stdout",
     "output_type": "stream",
     "text": [
      "Before imputation:\n",
      "id         0\n",
      "subject    6\n",
      "email      0\n",
      "spam       0\n",
      "dtype: int64\n",
      "------------\n",
      "After imputation:\n",
      "id         0\n",
      "subject    0\n",
      "email      0\n",
      "spam       0\n",
      "dtype: int64\n"
     ]
    }
   ],
   "source": [
    "print('Before imputation:')\n",
    "print(original_training_data.isnull().sum())\n",
    "original_training_data = original_training_data.fillna('')\n",
    "print('------------')\n",
    "print('After imputation:')\n",
    "print(original_training_data.isnull().sum())"
   ]
  },
  {
   "attachments": {},
   "cell_type": "markdown",
   "metadata": {
    "nbgrader": {
     "grade": false,
     "grade_id": "q1",
     "locked": true,
     "schema_version": 2,
     "solution": false
    }
   },
   "source": [
    "<br/>\n",
    "\n",
    "<hr style=\"border: 1px solid #fdb515;\" />\n",
    "\n",
    "## Initial Explorataion\n",
    "\n",
    "In the cell below, I am looking at the text of the `email` field for the first ham and the first spam email in the original training set."
   ]
  },
  {
   "cell_type": "code",
   "execution_count": 7,
   "metadata": {
    "ExecuteTime": {
     "end_time": "2019-04-03T20:17:42.247245Z",
     "start_time": "2019-04-03T20:17:42.228451Z"
    },
    "nbgrader": {
     "grade": false,
     "grade_id": "q1-answer",
     "locked": false,
     "schema_version": 2,
     "solution": true
    }
   },
   "outputs": [
    {
     "name": "stdout",
     "output_type": "stream",
     "text": [
      "url: http://boingboing.net/#85534171\n",
      " date: not supplied\n",
      " \n",
      " arts and letters daily, a wonderful and dense blog, has folded up its tent due \n",
      " to the bankruptcy of its parent company. a&l daily will be auctioned off by the \n",
      " receivers. link[1] discuss[2] (_thanks, misha!_)\n",
      " \n",
      " [1] http://www.aldaily.com/\n",
      " [2] http://www.quicktopic.com/boing/h/zlfterjnd6jf\n",
      " \n",
      " \n",
      "\n",
      "<html>\n",
      " <head>\n",
      " </head>\n",
      " <body>\n",
      " <font size=3d\"4\"><b> a man endowed with a 7-8\" hammer is simply<br>\n",
      "  better equipped than a man with a 5-6\"hammer. <br>\n",
      " <br>would you rather have<br>more than enough to get the job done or fall =\n",
      " short. it's totally up<br>to you. our methods are guaranteed to increase y=\n",
      " our size by 1-3\"<br> <a href=3d\"http://209.163.187.47/cgi-bin/index.php?10=\n",
      " 004\">come in here and see how</a>\n",
      " </body>\n",
      " </html>\n",
      " \n",
      " \n",
      " \n",
      "\n"
     ]
    }
   ],
   "source": [
    "first_ham = original_training_data.loc[original_training_data['spam'] == 0, 'email'].iloc[0]\n",
    "first_spam = original_training_data.loc[original_training_data['spam'] == 1, 'email'].iloc[0]\n",
    "print(first_ham)\n",
    "print(first_spam)"
   ]
  },
  {
   "attachments": {},
   "cell_type": "markdown",
   "metadata": {},
   "source": [
    "I can see that the body text is different between the two emails. The ham email has a many of links that are all 'www' and '.com'/'.net' links. Or links that seem to be legitimate. Whereas the spam email text has a link that seems to be illegitimate because it is not a 'www' link and is instead a hard link. In addition there appears to be a lot more formatting (head, body, br, etc) done to the text in the spam email than to the text in the ham email. It follows that one of the key features in my feature engineering pipeline might be the context of the emails (body/subject), especially considering we do not have metadata on the emails."
   ]
  },
  {
   "attachments": {},
   "cell_type": "markdown",
   "metadata": {
    "nbgrader": {
     "grade": false,
     "grade_id": "cell-78513403ef52a957",
     "locked": true,
     "schema_version": 2,
     "solution": false
    }
   },
   "source": [
    "## Training-Validation Split\n",
    "### Instructions:\n",
    "- The training data we downloaded is all the data we have available for both training models and **validating** the models that we train. Split the training data into separate training and validation datsets."
   ]
  },
  {
   "cell_type": "code",
   "execution_count": 8,
   "metadata": {
    "ExecuteTime": {
     "end_time": "2019-04-03T20:17:42.317970Z",
     "start_time": "2019-04-03T20:17:42.294532Z"
    },
    "nbgrader": {
     "grade": false,
     "grade_id": "cell-873194ed3e686dfb",
     "locked": true,
     "schema_version": 2,
     "solution": false
    }
   },
   "outputs": [],
   "source": [
    "# Creating a 90/10 train-validation split on our labeled data\n",
    "\n",
    "from sklearn.model_selection import train_test_split\n",
    "\n",
    "#Seed is set to 42 as required for the autograder to run\n",
    "\n",
    "train, val = train_test_split(original_training_data, test_size = 0.1, random_state = 42)"
   ]
  },
  {
   "attachments": {},
   "cell_type": "markdown",
   "metadata": {
    "nbgrader": {
     "grade": false,
     "grade_id": "feat-eng",
     "locked": true,
     "schema_version": 2,
     "solution": false
    }
   },
   "source": [
    "<br/><br/>\n",
    "<hr style=\"border: 5px solid #003262;\" />\n",
    "<hr style=\"border: 1px solid #fdb515;\" />\n",
    "\n",
    "# Part 2: Basic Feature Engineering\n",
    "\n",
    "### Instructions: \n",
    "- In your project, one of the features you may choose to use is whether or not a word appears in the email. Create a function called `words_in_texts` that takes in a list of `words` and a pandas Series of email `texts`. It should output a 2-dimensional NumPy array containing one row for each email text. The row should contain either a 0 or a 1 for each word in the list: 0 if the word doesn't appear in the text and 1 if the word does. "
   ]
  },
  {
   "attachments": {},
   "cell_type": "markdown",
   "metadata": {
    "deletable": false,
    "editable": false,
    "nbgrader": {
     "grade": false,
     "grade_id": "q2",
     "locked": true,
     "schema_version": 2,
     "solution": false
    }
   },
   "source": [
    "The goal of this project is to take the text of an email and predict whether the email is ham or spam. This is a *classification* problem, so I can use logistic regression to train a classifier. Recall that to train a logistic regression model we need a numeric feature matrix $X$ and a vector of corresponding binary labels $y$. To address the fact that our data are text, not numbers, we can create numeric features derived from the email text and use those features for logistic regression.\n",
    "\n",
    "To this end we can create the `words_in_texts` function as described above."
   ]
  },
  {
   "cell_type": "code",
   "execution_count": 9,
   "metadata": {
    "ExecuteTime": {
     "end_time": "2019-04-03T20:17:42.337281Z",
     "start_time": "2019-04-03T20:17:42.320567Z"
    },
    "nbgrader": {
     "grade": false,
     "grade_id": "q2-answer",
     "locked": false,
     "schema_version": 2,
     "solution": true
    },
    "tags": [
     "student"
    ]
   },
   "outputs": [],
   "source": [
    "def words_in_texts(words, texts):\n",
    "    '''\n",
    "    Args:\n",
    "        words (list): words to find\n",
    "        texts (Series): strings to search in\n",
    "    \n",
    "    Returns:\n",
    "        NumPy array of 0s and 1s with shape (n, p) where n is the\n",
    "        number of texts and p is the number of words.\n",
    "    '''\n",
    "    import numpy as np\n",
    "    indicator_array = 1 * np.array([texts.str.contains(word) for word in words]).T\n",
    "    return indicator_array\n"
   ]
  },
  {
   "attachments": {},
   "cell_type": "markdown",
   "metadata": {
    "nbgrader": {
     "grade": false,
     "grade_id": "eda",
     "locked": true,
     "schema_version": 2,
     "solution": false
    }
   },
   "source": [
    "<br/><br/>\n",
    "<hr style=\"border: 5px solid #003262;\" />\n",
    "<hr style=\"border: 1px solid #fdb515;\" />\n",
    "\n",
    "# Basic EDA\n",
    "### Instructions:\n",
    "- Conduct some basic EDA on the data, creating plots/visualizations and explaining your process"
   ]
  },
  {
   "attachments": {},
   "cell_type": "markdown",
   "metadata": {
    "deletable": false,
    "editable": false
   },
   "source": [
    "We need to identify some features that allow us to distinguish spam emails from ham emails. One way we can do this is by comparing the distribution of a single feature in spam emails to the distribution of the same feature in ham emails. If the feature is itself a binary indicator, such as whether a certain word occurs in the text, this means comparing the proportion of spam emails with the word to the proportion of ham emails with the word.\n",
    "\n",
    "Here I am creating a bar chart comparing the proportion of spam and ham emails containing certain words. Note that I am only considering the emails from the `train` ste\n"
   ]
  },
  {
   "cell_type": "code",
   "execution_count": 10,
   "metadata": {
    "ExecuteTime": {
     "end_time": "2019-04-03T20:17:43.145246Z",
     "start_time": "2019-04-03T20:17:42.430406Z"
    },
    "nbgrader": {
     "grade": true,
     "grade_id": "q3a-answer",
     "locked": false,
     "points": 2,
     "schema_version": 2,
     "solution": true
    }
   },
   "outputs": [
    {
     "data": {
      "image/png": "[encoded data removed]",
      "text/plain": [
       "<Figure size 720x720 with 1 Axes>"
      ]
     },
     "metadata": {},
     "output_type": "display_data"
    }
   ],
   "source": [
    "train = train.reset_index(drop=True) # We must do this in order to preserve the ordering of emails to labels for words_in_texts\n",
    "train['type'] = train['spam'].map({0:'ham', 1:'spam'})\n",
    "train_spam = train[train['type'] == \"spam\"]\n",
    "train_ham = train[train['type'] == \"ham\"]\n",
    "\n",
    "\n",
    "spam_array = words_in_texts(['bgcolor', 'urgent', 'order', '%', 'href', 'guarantee'], train_spam['email'])\n",
    "ham_array = words_in_texts(['bgcolor', 'urgent', 'order', '%', 'href', 'guarantee'], train_ham['email'])\n",
    "\n",
    "spam_sums = [sum([array[i] for array in spam_array]) for i in range(6)]\n",
    "ham_sums = [sum([item[j] for item in ham_array]) for j in range(6)]\n",
    "\n",
    "spam_prop = np.array(spam_sums)/len(train_spam)\n",
    "ham_prop = np.array(ham_sums)/len(train_ham)\n",
    "\n",
    "words_lst = ['bgcolor', 'urgent', 'order', '%', 'href', 'guarantee']\n",
    "plt.figure(figsize=(10,10))\n",
    "plt.bar(np.arange(len(words_lst)) - 0.2, height = ham_prop, width= 0.4, label = 'Ham')\n",
    "plt.bar(np.arange(len(words_lst))+ 0.2, height = spam_prop, width = 0.4, label = 'Spam')\n",
    "\n",
    "plt.xticks(np.arange(len(words_lst)), words_lst)\n",
    "plt.ylim(0.0, 1.0)\n",
    "plt.xlabel(\"Words\")\n",
    "plt.ylabel(\"Proportion of Emails\")\n",
    "plt.title(\"Frequency of words in Spam/Ham emails\")\n",
    "plt.legend(loc = 'upper right')\n",
    "plt.grid(False, axis = 'x')\n",
    "plt.show()\n"
   ]
  },
  {
   "cell_type": "code",
   "execution_count": 15,
   "metadata": {},
   "outputs": [
    {
     "data": {
      "image/png": "[encoded data removed]",
      "text/plain": [
       "<Figure size 432x288 with 2 Axes>"
      ]
     },
     "metadata": {},
     "output_type": "display_data"
    }
   ],
   "source": [
    "#heatmap of words correlation with each other maybe also do spam vs ham \n",
    "    #if two words have really high correlation, then maybe they are redundant \n",
    "    #(don't need both of them) and we would just choose one to avoid multi colinearity \n",
    "#heatmap \n",
    "#frequency of words that appear in spam emails compared to words that you put together \n",
    "\n",
    "\n",
    "corrs = X_train2[['business', 'href', 'money', 'free', \n",
    "              'offer', 'body', '!!!', 'bgcolor', '%', '$', '>']].corr()\n",
    "sns.heatmap(corrs);"
   ]
  },
  {
   "attachments": {},
   "cell_type": "markdown",
   "metadata": {},
   "source": [
    "Above is a heatmap of certain words that I was using in my words_in_text function. I knew that if two words have really high correlation, then maybe they are redundant. Since they are highly correlated, this means that the appearance of one is highly associated with the appearance of the other. So there would not be a big need to use both of them, and I would be able to just choose one to avoid multi-colinearity. This worked pretty well, but there were a few exceptions, where actually including 2 highly correlated words improved my model performance -- for example '$' was highly correlated with everything but was also helpful in building my model."
   ]
  },
  {
   "attachments": {},
   "cell_type": "markdown",
   "metadata": {},
   "source": [
    "<br/><br/>\n",
    "<hr style=\"border: 5px solid #003262;\" />\n",
    "<hr style=\"border: 1px solid #fdb515;\" />\n",
    "\n",
    "# Part 3 - Building Your Own Model\n",
    "\n",
    "### Instructions: \n",
    "- In order to get full credit on the accuracy part of this assignment, you must get at least **88%** accuracy on the test set. To see your accuracy on the test set, you will use your classifier to predict every email in the `test` DataFrame and upload your predictions to Gradescope.\n",
    "\n",
    "- **Gradescope limits you to four submissions per day**. You will be able to see your accuracy on the entire test set when submitting to Gradescope.\n",
    "\n",
    "- You may use whatever method you prefer in order to create features, but **you are not allowed to import any external feature extraction libraries**. In addition, **you are only allowed to train logistic regression models**. No decision trees, random forests, k-nearest-neighbors, neural nets, etc.\n",
    "\n",
    "- We have not provided any code to do this, so feel free to create as many cells as you need in order to tackle this task. However, answering short questions 1, 2, and 3 should help guide you."
   ]
  },
  {
   "cell_type": "code",
   "execution_count": 11,
   "metadata": {},
   "outputs": [
    {
     "data": {
      "text/plain": [
       "(   business  href  money  html  offer  body  !!!  bgcolor  rich  %  ...  \\\n",
       " 0         0     0      0     0      0     0    0        0     0  0  ...   \n",
       " 1         0     0      0     1      0     1    0        0     0  1  ...   \n",
       " 2         0     0      0     0      0     0    0        0     0  0  ...   \n",
       " 3         0     0      0     1      0     0    0        0     0  0  ...   \n",
       " 4         1     1      0     1      1     1    0        1     1  1  ...   \n",
       " \n",
       "    shipping  >  2002   prop </  prop you  prop your    prop !  prop reply  \\\n",
       " 0         0  0     1       0.0         0        0.0  0.001219         0.0   \n",
       " 1         0  0     1       0.0         1        0.0       0.0         0.0   \n",
       " 2         0  1     1       0.0         1        0.0  0.002144         0.0   \n",
       " 3         0  0     1       0.0         1        0.0  0.000451         0.0   \n",
       " 4         0  1     1  0.010683        17   0.000183  0.001339         0.0   \n",
       " \n",
       "      prop $  len email  \n",
       " 0  0.001219       1641  \n",
       " 1  0.000424       4713  \n",
       " 2   0.00143       1399  \n",
       " 3  0.000451       4435  \n",
       " 4  0.000061      32857  \n",
       " \n",
       " [5 rows x 43 columns],\n",
       " array([0, 0, 0, 0, 0]))"
      ]
     },
     "execution_count": 11,
     "metadata": {},
     "output_type": "execute_result"
    }
   ],
   "source": [
    "#feature engineering our training data\n",
    "\n",
    "email_words = ['business', 'href', 'money', 'html', \n",
    "              'offer', 'body', '!!!', 'bgcolor',\n",
    "              'rich', '%', '$', 'debt', \n",
    "              'payment', 'free','rate', 'spam',\n",
    "              'helvetica', '<font', 'arial', 'guaranteed', \n",
    "               'please', 'people', 'make', 'send', \n",
    "               'reply', '</tr>', 'memo', 'removed', \n",
    "              'sex', 'dear', 'border', 'wish', \n",
    "              'million', 'shipping', '>', '2002']\n",
    "\n",
    "def feature_eng(text, words_lst):     \n",
    "    train_df = pd.DataFrame(words_in_texts(words_lst, text), index = text.index)\n",
    "    train_df.columns = words_lst\n",
    "    train_df['prop </'] = text.str.count('</')/text.astype('string').str.len()\n",
    "    train_df['prop you'] = text.str.count('you')#/text.astype('string').str.len()\n",
    "    train_df['prop your'] = text.str.count('your')/text.astype('string').str.len()\n",
    "    train_df['prop !'] = text.str.count('!')/text.astype('string').str.len()\n",
    "    train_df['prop reply'] = text.str.count('reply')/text.astype('string').str.len()\n",
    "    train_df['prop $'] = text.str.count('$')/text.astype('string').str.len()\n",
    "    train_df['len email'] = text.astype('string').str.len()\n",
    "    return train_df\n",
    "    \n",
    "X_train2 = feature_eng(train['email'], email_words)\n",
    "Y_train2 = np.array(train['spam'])\n",
    "\n",
    "X_train2[:5], Y_train2[:5]"
   ]
  },
  {
   "cell_type": "code",
   "execution_count": 13,
   "metadata": {},
   "outputs": [
    {
     "name": "stdout",
     "output_type": "stream",
     "text": [
      "Training Accuracy:  0.926128044722481\n"
     ]
    }
   ],
   "source": [
    "# fitting our model to the feature engineered training data\n",
    "\n",
    "from sklearn.linear_model import LogisticRegression\n",
    "\n",
    "#FINDING TRAINING ACCURACY \n",
    "model2 = LogisticRegression(max_iter = 1000)\n",
    "model2.fit(X_train2, Y_train2)\n",
    "\n",
    "training_accuracy2 = model2.score(X_train2, Y_train2)\n",
    "print(\"Training Accuracy: \", training_accuracy2)"
   ]
  },
  {
   "cell_type": "code",
   "execution_count": 14,
   "metadata": {},
   "outputs": [
    {
     "name": "stdout",
     "output_type": "stream",
     "text": [
      "Validation Accuracy:  0.9233532934131736\n"
     ]
    }
   ],
   "source": [
    "#FINDING VALIDATION ACCURACY  \n",
    "X_train3 = feature_eng(val['email'], email_words)\n",
    "Y_train3 = np.array(val['spam'])\n",
    "\n",
    "model3 = LogisticRegression(max_iter = 1000)\n",
    "model3.fit(X_train3, Y_train3)\n",
    "\n",
    "training_accuracy3 = model3.score(X_train3, Y_train3)\n",
    "print(\"Validation Accuracy: \", training_accuracy3)"
   ]
  },
  {
   "attachments": {},
   "cell_type": "markdown",
   "metadata": {},
   "source": [
    "### Short Questions: Feature/Model Selection Process\n",
    "\n",
    "1. How did you find better features for your model?\n",
    " -  I used the training accuracy as a metric for finding features for my model. I aimed to get a training accuracy between 90% and 95% when adding in features, and I removed features that lowered the training accuracy below this. I wanted above 90% because I wanted the model to be able to accurately predict the spam/ham classification but I wanted the training accuracy to be less than 95% because I didn't want to be overfitting to the training data. I also used the gradescope submissions as a metric for how well my model was performing. For finding better words to filter for, I looked at the training data pretty carefully to try and see what words appeared more often in the spam vs ham emails. I ended up creating 2 dictionaries of all of the words in the spam and ham emails and their value counts.    In addition, I looked for differences in the number and type of punctuation used and the structure of the emails themselves. Lastly I created separate dictionaries for the spam and ham emails that counted the occurence of different words in the email. Then I subtracted those values from each other and used the words that had the greatest absolute difference. I then used the words with the greatest aboslute difference(which meant that they were words that were common in spam emails but not in ham emails or vice versa) and used them in my feature engineering function within the words_in_text list. I also used a heatmap to determine some of the correlations between words, and I used this to inform whether or not to keep using or to remove certain words. The heatmap was helpful in some ways, but on occasion I found that even though 2 words were highly correlated, using both of them to build my model was actually increasing the model performance. \n",
    "\n",
    "2. What did you try that worked or didn't work?\n",
    " - I tried flagging a variety of words in the email itself to create features for my model. Using the most common words (common in spam but not in ham and vice versa) worked best to reduce my training accuracy. In addition counting some of the special characters would pretty well for my feature engineering. I also, in the beginning of creating this model, tried guessing and checking for words I thought might be common in spam emails. Some words that I tried that didn't work included: \"guarantee\", \". I also attempted to use the proportion of Capital letters in the subject lines of the emails as a feature, but I found that when averaged over all the spam and all the ham emails the proportions were not that distinct from each other and thus it didn't make a great feature. I was also going to try running the words_in_text function on my subjects but overall doing this provided marginal improvements in my model performance and it also meant that I would need to spend more time considering the cases in which there was no subject line (which we changed to '').\n",
    "\n",
    "\n",
    "3. What was surprising in your search for good features?\n",
    " - I think I was surprised by how difficult it was to come up with features for the data that would be unique. For example, it was easy to think of more words to add to my words list, but it was more difficult to think of other unique and meaningful features to include in the training data for our model. I think I also found it surprising how much of an impact the words had in relation to the other feature, the words_in_text functions definitely generated the most impactful set of features for my model, and I found that kind of surprising at first. But on reflection it makes intuitive sense since we determine what is and isn't spam based on what the content of the email is. I think what also surprised me was how some words, which appeared often in spam emails and rarely in ham emails, actually lowered my trainging accuracy. I think this might be attributed to multi-colinearity, where certain words are highly correlated, and thus the inclusion of both of the words actually affects the model in unpredictable ways. \n"
   ]
  },
  {
   "attachments": {},
   "cell_type": "markdown",
   "metadata": {},
   "source": [
    "### ROC Curve\n",
    "\n",
    "The ROC curve shows this trade off for each possible cutoff probability. In the cell below, I plotted a ROC curve for my final classifier."
   ]
  },
  {
   "cell_type": "code",
   "execution_count": 16,
   "metadata": {},
   "outputs": [
    {
     "data": {
      "image/png": "[encoded data removed]",
      "text/plain": [
       "<Figure size 432x288 with 1 Axes>"
      ]
     },
     "metadata": {},
     "output_type": "display_data"
    }
   ],
   "source": [
    "from sklearn.metrics import roc_curve\n",
    "\n",
    "fpr, tpr, thresholds = roc_curve(Y_train2, [i[1] for i in model2.predict_proba(X_train2)])\n",
    "plt.step(fpr, tpr)\n",
    "plt.xlabel('False Positive Rate')\n",
    "plt.ylabel('True Positive Rate')\n",
    "plt.title(\"ROC Curve\");"
   ]
  },
  {
   "attachments": {},
   "cell_type": "markdown",
   "metadata": {},
   "source": [
    "### Generating Test Prediction\n",
    "\n",
    "Here I am generating the test predictions for submission to the online autograder to see see the test accuracy."
   ]
  },
  {
   "cell_type": "code",
   "execution_count": 17,
   "metadata": {},
   "outputs": [],
   "source": [
    "#running predictions on our feature engineered test data\n",
    "test_predictions = model2.predict(feature_eng(test['email'], email_words))"
   ]
  },
  {
   "cell_type": "code",
   "execution_count": 18,
   "metadata": {},
   "outputs": [
    {
     "name": "stdout",
     "output_type": "stream",
     "text": [
      "Created a CSV file: submission_2023-03-08T17:14:12.csv.\n"
     ]
    }
   ],
   "source": [
    "from datetime import datetime\n",
    "\n",
    "submission_df = pd.DataFrame({\n",
    "    \"Id\": test['id'], \n",
    "    \"Class\": test_predictions,\n",
    "}, columns=['Id', 'Class'])\n",
    "timestamp = datetime.isoformat(datetime.now()).split(\".\")[0]\n",
    "submission_df.to_csv(\"submission_{}.csv\".format(timestamp), index=False)\n",
    "\n",
    "print('Created a CSV file: {}.'.format(\"submission_{}.csv\".format(timestamp)))"
   ]
  },
  {
   "attachments": {},
   "cell_type": "markdown",
   "metadata": {
    "deletable": false,
    "editable": false
   },
   "source": [
    "## Submission\n",
    "\n",
    "(Code Given) The cell below will generate a zip file to submit. **Must save before exporting!**"
   ]
  },
  {
   "cell_type": "code",
   "execution_count": 63,
   "metadata": {
    "deletable": false,
    "editable": false
   },
   "outputs": [
    {
     "data": {
      "text/html": [
       "\n",
       "            <p>Your submission has been exported. Click <a href=\"proj2a_2022_04_22T23_06_52_501286.zip\" download=\"proj2a_2022_04_22T23_06_52_501286.zip\" target=\"_blank\">here</a>\n",
       "            to download the zip file.</p>\n",
       "            "
      ],
      "text/plain": [
       "<IPython.core.display.HTML object>"
      ]
     },
     "metadata": {},
     "output_type": "display_data"
    }
   ],
   "source": [
    "# Save your notebook first, then run this cell to export your submission.\n",
    "grader.export()"
   ]
  },
  {
   "cell_type": "markdown",
   "metadata": {},
   "source": [
    " "
   ]
  }
 ],
 "metadata": {
  "kernelspec": {
   "display_name": "Python 3 (ipykernel)",
   "language": "python",
   "name": "python3"
  },
  "language_info": {
   "codemirror_mode": {
    "name": "ipython",
    "version": 3
   },
   "file_extension": ".py",
   "mimetype": "text/x-python",
   "name": "python",
   "nbconvert_exporter": "python",
   "pygments_lexer": "ipython3",
   "version": "3.9.12"
  }
 },
 "nbformat": 4,
 "nbformat_minor": 4
}
